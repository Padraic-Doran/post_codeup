{
 "cells": [
  {
   "cell_type": "code",
   "execution_count": 1,
   "metadata": {},
   "outputs": [],
   "source": [
    "example = {\n",
    "    'color': 'red',\n",
    "    'fruit': 'apple',\n",
    "    'species': 'dog',\n",
    "}"
   ]
  },
  {
   "cell_type": "code",
   "execution_count": 2,
   "metadata": {},
   "outputs": [
    {
     "name": "stdout",
     "output_type": "stream",
     "text": [
      "color\n",
      "fruit\n",
      "species\n"
     ]
    }
   ],
   "source": [
    "# Basic iteration\n",
    "for key in example:\n",
    "    print(key)"
   ]
  },
  {
   "cell_type": "code",
   "execution_count": 3,
   "metadata": {},
   "outputs": [
    {
     "name": "stdout",
     "output_type": "stream",
     "text": [
      "color -> red\n",
      "fruit -> apple\n",
      "species -> dog\n"
     ]
    }
   ],
   "source": [
    "# With values by accessing dict\n",
    "for key in example:\n",
    "    print(key, '->', example[key])"
   ]
  },
  {
   "cell_type": "code",
   "execution_count": 4,
   "metadata": {},
   "outputs": [
    {
     "name": "stdout",
     "output_type": "stream",
     "text": [
      "color\n",
      "fruit\n",
      "species\n"
     ]
    }
   ],
   "source": [
    "# .keys()\n",
    "for key in example.keys():\n",
    "    print(key)"
   ]
  },
  {
   "cell_type": "code",
   "execution_count": 5,
   "metadata": {},
   "outputs": [
    {
     "name": "stdout",
     "output_type": "stream",
     "text": [
      "('color', 'red')\n",
      "('fruit', 'apple')\n",
      "('species', 'dog')\n"
     ]
    }
   ],
   "source": [
    "# .items()\n",
    "for item in example.items():\n",
    "    print(item)"
   ]
  },
  {
   "cell_type": "code",
   "execution_count": 6,
   "metadata": {},
   "outputs": [
    {
     "name": "stdout",
     "output_type": "stream",
     "text": [
      "color -> red\n",
      "fruit -> apple\n",
      "species -> dog\n"
     ]
    }
   ],
   "source": [
    "# .items() with unpacking\n",
    "for key, value in example.items():\n",
    "    print(key, '->', value)"
   ]
  },
  {
   "cell_type": "code",
   "execution_count": 7,
   "metadata": {},
   "outputs": [],
   "source": [
    "prices = {\n",
    "    'apple': .5,\n",
    "    'orange': .35,\n",
    "    'banana': .25,\n",
    "}"
   ]
  },
  {
   "cell_type": "code",
   "execution_count": 8,
   "metadata": {},
   "outputs": [
    {
     "name": "stdout",
     "output_type": "stream",
     "text": [
      "{'apple': 0.6, 'orange': 0.44999999999999996, 'banana': 0.35}\n"
     ]
    }
   ],
   "source": [
    "# Modifying values\n",
    "for key in prices:\n",
    "    prices[key] = prices[key] + .1\n",
    "print(prices)"
   ]
  },
  {
   "cell_type": "code",
   "execution_count": 10,
   "metadata": {},
   "outputs": [
    {
     "name": "stdout",
     "output_type": "stream",
     "text": [
      "{'apple': 0.6, 'orange': 0.44999999999999996, 'banana': 0.35, 'kiwi': 2}\n"
     ]
    }
   ],
   "source": [
    "# Converting to a list avoids this problem\n",
    "# Modifying with key and dictionary access\n",
    "# is the best policy!\n",
    "\n",
    "for key in list(prices.keys()):\n",
    "    prices['kiwi'] = 2\n",
    "print(prices)"
   ]
  },
  {
   "cell_type": "code",
   "execution_count": 11,
   "metadata": {},
   "outputs": [],
   "source": [
    "objects = ['blue', 'apple', 'dog']\n",
    "categories = ['color', 'fruit', 'pet']"
   ]
  },
  {
   "cell_type": "code",
   "execution_count": 12,
   "metadata": {},
   "outputs": [
    {
     "name": "stdout",
     "output_type": "stream",
     "text": [
      "{'blue': 'color', 'apple': 'fruit', 'dog': 'pet'}\n"
     ]
    }
   ],
   "source": [
    "# \"Zipping\" values into dictionaries\n",
    "a_dict = {key: value for key, value in zip(objects, categories)}\n",
    "print(a_dict)"
   ]
  },
  {
   "cell_type": "code",
   "execution_count": 13,
   "metadata": {},
   "outputs": [
    {
     "name": "stdout",
     "output_type": "stream",
     "text": [
      "{'color': 'blue', 'fruit': 'apple', 'pet': 'dog'}\n"
     ]
    }
   ],
   "source": [
    "# Dictionary Comprehension\n",
    "\n",
    "new_dict = {value: key for key, value in a_dict.items()}\n",
    "print(new_dict)"
   ]
  },
  {
   "cell_type": "code",
   "execution_count": 14,
   "metadata": {},
   "outputs": [],
   "source": [
    "num_dict = {\n",
    "    'one': 1,\n",
    "    'two': 2,\n",
    "    'three': 3,\n",
    "    'four': 4,\n",
    "}"
   ]
  },
  {
   "cell_type": "code",
   "execution_count": 15,
   "metadata": {},
   "outputs": [
    {
     "name": "stdout",
     "output_type": "stream",
     "text": [
      "{'three': 3, 'four': 4}\n"
     ]
    }
   ],
   "source": [
    "# Filtering a dictionary more readably\n",
    "filtered_nums = {key: value for key, value in num_dict.items() if value > 2}\n",
    "print(filtered_nums)"
   ]
  },
  {
   "cell_type": "code",
   "execution_count": 16,
   "metadata": {},
   "outputs": [],
   "source": [
    "incomes = {\n",
    "    'jeff': 12000,\n",
    "    'annie': 23000,\n",
    "    'glen': 50000,\n",
    "}"
   ]
  },
  {
   "cell_type": "code",
   "execution_count": 17,
   "metadata": {},
   "outputs": [
    {
     "name": "stdout",
     "output_type": "stream",
     "text": [
      "85000\n",
      "85000\n"
     ]
    },
    {
     "data": {
      "text/plain": [
       "85000"
      ]
     },
     "execution_count": 17,
     "metadata": {},
     "output_type": "execute_result"
    }
   ],
   "source": [
    "# Summing values more readably\n",
    "print(sum([value for value in incomes.values()]))\n",
    "\n",
    "# Summing values even more readably\n",
    "print(sum(incomes.values()))\n",
    "\n",
    "# Summing values with generators for really large data\n",
    "# Notice the parentheses instead of brackets\n",
    "sum((value for value in incomes.values()))"
   ]
  },
  {
   "cell_type": "code",
   "execution_count": 18,
   "metadata": {},
   "outputs": [
    {
     "name": "stdout",
     "output_type": "stream",
     "text": [
      "{'annie': 23000, 'glen': 50000, 'jeff': 12000}\n",
      "['annie', 'glen', 'jeff']\n"
     ]
    }
   ],
   "source": [
    "# Sorting by keys\n",
    "sorted_incomes = {k: incomes[k] for k in sorted(incomes)}\n",
    "print(sorted_incomes)\n",
    "\n",
    "# Not the same as sorted(incomes)\n",
    "print(sorted(incomes))\n"
   ]
  },
  {
   "cell_type": "code",
   "execution_count": 19,
   "metadata": {},
   "outputs": [
    {
     "name": "stdout",
     "output_type": "stream",
     "text": [
      "{'jeff': 12000, 'annie': 23000, 'glen': 50000}\n"
     ]
    }
   ],
   "source": [
    "# Sorting by value\n",
    "def by_value(item):\n",
    "    return item[1] # The second item of a tuple\n",
    "\n",
    "sorted_byv = {}\n",
    "for k, v in sorted(incomes.items(), key=by_value):\n",
    "    sorted_byv[k] = v\n",
    "print(sorted_byv)"
   ]
  },
  {
   "cell_type": "code",
   "execution_count": 20,
   "metadata": {},
   "outputs": [],
   "source": [
    "fruits = {'orange': 10, 'apple': 20}\n",
    "veggies = {'carrot': 5, 'potato': 45}"
   ]
  },
  {
   "cell_type": "code",
   "execution_count": 23,
   "metadata": {},
   "outputs": [
    {
     "data": {
      "text/plain": [
       "ChainMap({'orange': 10, 'apple': 20}, {'carrot': 5, 'potato': 45})"
      ]
     },
     "execution_count": 23,
     "metadata": {},
     "output_type": "execute_result"
    }
   ],
   "source": [
    "# ChainMap usage\n",
    "from collections import ChainMap\n",
    "chained_map = ChainMap(fruits, veggies)\n",
    "chained_map"
   ]
  },
  {
   "cell_type": "code",
   "execution_count": 22,
   "metadata": {},
   "outputs": [
    {
     "name": "stdout",
     "output_type": "stream",
     "text": [
      "carrot 5\n",
      "potato 45\n",
      "orange 10\n",
      "apple 20\n"
     ]
    }
   ],
   "source": [
    "# Iteration\n",
    "for key in chained_map:\n",
    "    print(key, chained_map[key])"
   ]
  },
  {
   "cell_type": "code",
   "execution_count": 24,
   "metadata": {},
   "outputs": [
    {
     "name": "stdout",
     "output_type": "stream",
     "text": [
      "carrot -> 5\n",
      "potato -> 45\n",
      "orange -> 10\n",
      "apple -> 20\n"
     ]
    }
   ],
   "source": [
    "# More iteration\n",
    "for key, value in chained_map.items():\n",
    "    print(key, \"->\", value)"
   ]
  },
  {
   "cell_type": "code",
   "execution_count": 25,
   "metadata": {},
   "outputs": [],
   "source": [
    "prices = {\n",
    "    'apple': .25,\n",
    "    'orange': .50,\n",
    "    'kiwi': .75,\n",
    "}"
   ]
  },
  {
   "cell_type": "code",
   "execution_count": 26,
   "metadata": {},
   "outputs": [
    {
     "name": "stdout",
     "output_type": "stream",
     "text": [
      "('apple', 0.25)\n",
      "('orange', 0.5)\n",
      "('kiwi', 0.75)\n",
      "('apple', 0.25)\n",
      "('orange', 0.5)\n",
      "('kiwi', 0.75)\n",
      "('apple', 0.25)\n",
      "('orange', 0.5)\n",
      "('kiwi', 0.75)\n",
      "('apple', 0.25)\n"
     ]
    }
   ],
   "source": [
    "# Cycling\n",
    "from itertools import cycle\n",
    "num_items = 10\n",
    "for item in cycle(prices.items()):\n",
    "    if num_items == 0:\n",
    "        break\n",
    "    num_items -= 1\n",
    "    print(item)"
   ]
  },
  {
   "cell_type": "code",
   "execution_count": 27,
   "metadata": {},
   "outputs": [
    {
     "name": "stdout",
     "output_type": "stream",
     "text": [
      "('apple', 10)\n",
      "('banana', 20)\n",
      "('carrot', 5)\n",
      "('potato', 45)\n"
     ]
    }
   ],
   "source": [
    "# Chains\n",
    "from itertools import chain\n",
    "fruits = {'apple': 10, 'banana': 20}\n",
    "veggies = {'carrot': 5, 'potato': 45}\n",
    "for item in chain(fruits.items(), veggies.items()):\n",
    "    print(item)\n"
   ]
  },
  {
   "cell_type": "code",
   "execution_count": 28,
   "metadata": {},
   "outputs": [
    {
     "name": "stdout",
     "output_type": "stream",
     "text": [
      "{'apple': 10, 'banana': 20, 'carrot': 5, 'potato': 45}\n"
     ]
    }
   ],
   "source": [
    "# Dictionary unpacking\n",
    "print({**fruits, **veggies})"
   ]
  },
  {
   "cell_type": "code",
   "execution_count": 29,
   "metadata": {},
   "outputs": [
    {
     "name": "stdout",
     "output_type": "stream",
     "text": [
      "apple -> 10\n",
      "banana -> 20\n",
      "carrot -> 5\n",
      "potato -> 45\n"
     ]
    }
   ],
   "source": [
    "# Iteration\n",
    "for key, value in {**fruits, **veggies}.items():\n",
    "    print(key, '->', value)"
   ]
  },
  {
   "cell_type": "code",
   "execution_count": null,
   "metadata": {},
   "outputs": [],
   "source": []
  }
 ],
 "metadata": {
  "kernelspec": {
   "display_name": "Python 3",
   "language": "python",
   "name": "python3"
  },
  "language_info": {
   "codemirror_mode": {
    "name": "ipython",
    "version": 3
   },
   "file_extension": ".py",
   "mimetype": "text/x-python",
   "name": "python",
   "nbconvert_exporter": "python",
   "pygments_lexer": "ipython3",
   "version": "3.7.3"
  }
 },
 "nbformat": 4,
 "nbformat_minor": 2
}
