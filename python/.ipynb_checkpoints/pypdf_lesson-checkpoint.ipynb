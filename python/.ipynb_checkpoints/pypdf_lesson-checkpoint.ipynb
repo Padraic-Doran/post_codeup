{
 "cells": [
  {
   "cell_type": "code",
   "execution_count": 5,
   "metadata": {},
   "outputs": [],
   "source": [
    "#importing a pdf reader\n",
    "from PyPDF2 import PdfFileReader\n",
    "from PyPDF2 import PdfFileReader, PdfFileWriter"
   ]
  },
  {
   "cell_type": "code",
   "execution_count": 2,
   "metadata": {},
   "outputs": [],
   "source": [
    "#function that extracts information from the sample pdf\n",
    "\n",
    "def extract_information(pdf_path):\n",
    "    with open(pdf_path, 'rb') as f:\n",
    "        pdf = PdfFileReader(f)\n",
    "        information = pdf.getDocumentInfo()\n",
    "        number_of_pages = pdf.getNumPages()\n",
    "\n",
    "    txt = f\"\"\"\n",
    "    Information about {pdf_path}: \n",
    "\n",
    "    Author: {information.author}\n",
    "    Creator: {information.creator}\n",
    "    Producer: {information.producer}\n",
    "    Subject: {information.subject}\n",
    "    Title: {information.title}\n",
    "    Number of pages: {number_of_pages}\n",
    "    \"\"\"\n",
    "\n",
    "    print(txt)\n",
    "    return information"
   ]
  },
  {
   "cell_type": "code",
   "execution_count": 3,
   "metadata": {},
   "outputs": [
    {
     "name": "stdout",
     "output_type": "stream",
     "text": [
      "\n",
      "    Information about reportlab-sample.pdf: \n",
      "\n",
      "    Author: Michael Driscoll\n",
      "    Creator: LaTeX with hyperref package\n",
      "    Producer: XeTeX 0.99999\n",
      "    Subject: None\n",
      "    Title: ReportLab - PDF Processing with Python\n",
      "    Number of pages: 54\n",
      "    \n"
     ]
    }
   ],
   "source": [
    "if __name__ == '__main__':\n",
    "    path = 'reportlab-sample.pdf'\n",
    "    extract_information(path)"
   ]
  },
  {
   "cell_type": "code",
   "execution_count": 4,
   "metadata": {},
   "outputs": [],
   "source": [
    "# rotating pages function\n",
    "\n",
    "\n",
    "def rotate_pages(pdf_path):\n",
    "    pdf_writer = PdfFileWriter()\n",
    "    pdf_reader = PdfFileReader(path)\n",
    "    # Rotate page 90 degrees to the right\n",
    "    page_1 = pdf_reader.getPage(0).rotateClockwise(90)\n",
    "    pdf_writer.addPage(page_1)\n",
    "    # Rotate page 90 degrees to the left\n",
    "    page_2 = pdf_reader.getPage(1).rotateCounterClockwise(90)\n",
    "    pdf_writer.addPage(page_2)\n",
    "    page_3 = pdf_reader.getPage(2).rotateCounterClockwise(180)\n",
    "    pdf_writer.addPage(page_3)\n",
    "    # Add a page in normal orientation\n",
    "    pdf_writer.addPage(pdf_reader.getPage(3))\n",
    "\n",
    "    with open('rotate_pages.pdf', 'wb') as fh:\n",
    "        pdf_writer.write(fh)\n"
   ]
  },
  {
   "cell_type": "code",
   "execution_count": 8,
   "metadata": {},
   "outputs": [],
   "source": [
    "if __name__ == '__main__':\n",
    "    path = 'PDFs_in_Python.pdf'\n",
    "    rotate_pages(path)"
   ]
  },
  {
   "cell_type": "code",
   "execution_count": 9,
   "metadata": {},
   "outputs": [],
   "source": [
    "# function for merging pdfs\n",
    "\n",
    "def merge_pdfs(paths, output):\n",
    "    pdf_writer = PdfFileWriter()\n",
    "\n",
    "    for path in paths:\n",
    "        pdf_reader = PdfFileReader(path)\n",
    "        for page in range(pdf_reader.getNumPages()):\n",
    "            # Add each page to the writer object\n",
    "            pdf_writer.addPage(pdf_reader.getPage(page))\n"
   ]
  },
  {
   "cell_type": "code",
   "execution_count": 10,
   "metadata": {},
   "outputs": [],
   "source": [
    "# function for splitting pdfs\n",
    "\n",
    "def split(path, name_of_split):\n",
    "    pdf = PdfFileReader(path)\n",
    "    for page in range(pdf.getNumPages()):\n",
    "        pdf_writer = PdfFileWriter()\n",
    "        pdf_writer.addPage(pdf.getPage(page))\n",
    "\n",
    "        output = f'{name_of_split}{page}.pdf'\n",
    "        with open(output, 'wb') as output_pdf:\n",
    "            pdf_writer.write(output_pdf)"
   ]
  },
  {
   "cell_type": "code",
   "execution_count": 11,
   "metadata": {},
   "outputs": [],
   "source": [
    "# if __name__ == '__main__':\n",
    "#     path = 'Jupyter_Notebook.pdf'\n",
    "#     split(path, 'jupyter_page')"
   ]
  },
  {
   "cell_type": "code",
   "execution_count": null,
   "metadata": {},
   "outputs": [],
   "source": []
  }
 ],
 "metadata": {
  "kernelspec": {
   "display_name": "Python 3",
   "language": "python",
   "name": "python3"
  },
  "language_info": {
   "codemirror_mode": {
    "name": "ipython",
    "version": 3
   },
   "file_extension": ".py",
   "mimetype": "text/x-python",
   "name": "python",
   "nbconvert_exporter": "python",
   "pygments_lexer": "ipython3",
   "version": "3.7.3"
  }
 },
 "nbformat": 4,
 "nbformat_minor": 2
}
